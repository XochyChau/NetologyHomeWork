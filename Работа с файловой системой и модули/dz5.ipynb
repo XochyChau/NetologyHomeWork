{
 "cells": [
  {
   "cell_type": "code",
   "execution_count": 1,
   "metadata": {},
   "outputs": [],
   "source": [
    "import json\n"
   ]
  },
  {
   "cell_type": "code",
   "execution_count": 10,
   "metadata": {},
   "outputs": [
    {
     "name": "stdout",
     "output_type": "stream",
     "text": [
      "{'user_id': 'user_id', 'category': 'category'}\n",
      "{'user_id': '1840e0b9d4', 'category': 'Продукты'}\n",
      "{'user_id': '4e4f90fcfb', 'category': 'Электроника'}\n",
      "{'user_id': 'afea8d72fc', 'category': 'Электроника'}\n",
      "{'user_id': '373a6055fe', 'category': 'Бытовая техника'}\n",
      "{'user_id': '9b2ab046f3', 'category': 'Электроника'}\n"
     ]
    }
   ],
   "source": [
    "i = 0\n",
    "with open('D:\\purchase_log.txt', encoding='utf-8') as f:\n",
    "        for line in f:\n",
    "            dict_ = json.loads(line)\n",
    "            print(dict_)\n",
    "            i += 1\n",
    "            if i > 5:\n",
    "                break"
   ]
  },
  {
   "cell_type": "code",
   "execution_count": 2,
   "metadata": {},
   "outputs": [],
   "source": [
    "with open('D:\\purchase_log.txt', encoding='utf-8') as f:\n",
    "    with open('D:\\pvisit_log.csv', encoding='utf-8') as f2:\n",
    "        with open('D:\\pfunnel.csv', 'w') as final_doc:\n",
    "            content = f.readlines()\n",
    "            for x in content:\n",
    "                purchase = json.loads(x)\n",
    "                for line in f2:\n",
    "                    if purchase['user_id'] in line:\n",
    "                        final_doc.write(purchase['category'] +', ' + line)\n",
    "                        break"
   ]
  },
  {
   "cell_type": "code",
   "execution_count": null,
   "metadata": {},
   "outputs": [],
   "source": []
  }
 ],
 "metadata": {
  "kernelspec": {
   "display_name": "Python 3",
   "language": "python",
   "name": "python3"
  },
  "language_info": {
   "codemirror_mode": {
    "name": "ipython",
    "version": 3
   },
   "file_extension": ".py",
   "mimetype": "text/x-python",
   "name": "python",
   "nbconvert_exporter": "python",
   "pygments_lexer": "ipython3",
   "version": "3.7.6"
  }
 },
 "nbformat": 4,
 "nbformat_minor": 4
}
