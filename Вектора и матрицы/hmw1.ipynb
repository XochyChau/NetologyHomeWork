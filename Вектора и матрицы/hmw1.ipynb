{
 "cells": [
  {
   "cell_type": "markdown",
   "metadata": {},
   "source": [
    "# Домашняя работа №1"
   ]
  },
  {
   "cell_type": "code",
   "execution_count": 1,
   "metadata": {},
   "outputs": [],
   "source": [
    "import numpy as np\n",
    "import pylab as pl\n",
    "import pandas as pd\n",
    "import warnings\n",
    "import math\n",
    "\n",
    "from matplotlib import pyplot as plt\n",
    "from scipy import linalg\n",
    "\n",
    "\n",
    "warnings.filterwarnings(\"ignore\")"
   ]
  },
  {
   "cell_type": "markdown",
   "metadata": {},
   "source": [
    "## Задание 1"
   ]
  },
  {
   "cell_type": "markdown",
   "metadata": {},
   "source": [
    "Изобразите с помощью matplotlib. Изобразите точку x + 2y + 3z. Найдите угол между векторами x, y и x, z. "
   ]
  },
  {
   "cell_type": "code",
   "execution_count": 2,
   "metadata": {},
   "outputs": [],
   "source": [
    "x = np.array([1,1])\n",
    "y = np.array([2, 0])\n",
    "z = np.array([0,2])"
   ]
  },
  {
   "cell_type": "code",
   "execution_count": 35,
   "metadata": {},
   "outputs": [
    {
     "data": {
      "text/plain": [
       "[<matplotlib.lines.Line2D at 0x1a10ef3ef88>]"
      ]
     },
     "execution_count": 35,
     "metadata": {},
     "output_type": "execute_result"
    },
    {
     "data": {
      "image/png": "[encoded data removed]",
      "text/plain": [
       "<Figure size 432x288 with 1 Axes>"
      ]
     },
     "metadata": {
      "needs_background": "light"
     },
     "output_type": "display_data"
    }
   ],
   "source": [
    "plt.plot(x)\n",
    "plt.plot(y)\n",
    "plt.plot(z)\n",
    "plt.plot(x+2*y+3*z)"
   ]
  },
  {
   "cell_type": "code",
   "execution_count": 10,
   "metadata": {},
   "outputs": [
    {
     "data": {
      "text/plain": [
       "2"
      ]
     },
     "execution_count": 10,
     "metadata": {},
     "output_type": "execute_result"
    }
   ],
   "source": [
    "np.dot(x, y)"
   ]
  },
  {
   "cell_type": "code",
   "execution_count": 11,
   "metadata": {},
   "outputs": [
    {
     "data": {
      "text/plain": [
       "2"
      ]
     },
     "execution_count": 11,
     "metadata": {},
     "output_type": "execute_result"
    }
   ],
   "source": [
    "np.dot(x, z)"
   ]
  },
  {
   "cell_type": "markdown",
   "metadata": {},
   "source": [
    "## Задание 2"
   ]
  },
  {
   "cell_type": "markdown",
   "metadata": {},
   "source": [
    "Загрузите модель человека. Найдите расстояние от правой кисти до позвоночника"
   ]
  },
  {
   "cell_type": "code",
   "execution_count": 16,
   "metadata": {},
   "outputs": [],
   "source": [
    "ns = ['type', 'x', 'y', 'z']\n",
    "# read points for joints\n",
    "dfJointsVertexes = pd.read_csv('D:\\\\Netology\\\\DS\\\\joints.txt', sep=' ', names = ns)\n",
    "axis_sort = 'x' \n",
    "df = dfJointsVertexes.sort_values(by=[axis_sort])"
   ]
  },
  {
   "cell_type": "code",
   "execution_count": 22,
   "metadata": {},
   "outputs": [
    {
     "data": {
      "text/html": [
       "<div>\n",
       "<style scoped>\n",
       "    .dataframe tbody tr th:only-of-type {\n",
       "        vertical-align: middle;\n",
       "    }\n",
       "\n",
       "    .dataframe tbody tr th {\n",
       "        vertical-align: top;\n",
       "    }\n",
       "\n",
       "    .dataframe thead th {\n",
       "        text-align: right;\n",
       "    }\n",
       "</style>\n",
       "<table border=\"1\" class=\"dataframe\">\n",
       "  <thead>\n",
       "    <tr style=\"text-align: right;\">\n",
       "      <th></th>\n",
       "      <th>type</th>\n",
       "      <th>x</th>\n",
       "      <th>y</th>\n",
       "      <th>z</th>\n",
       "    </tr>\n",
       "  </thead>\n",
       "  <tbody>\n",
       "    <tr>\n",
       "      <th>21</th>\n",
       "      <td>v</td>\n",
       "      <td>-0.392414</td>\n",
       "      <td>0.045288</td>\n",
       "      <td>0.025403</td>\n",
       "    </tr>\n",
       "    <tr>\n",
       "      <th>20</th>\n",
       "      <td>v</td>\n",
       "      <td>-0.283883</td>\n",
       "      <td>0.219551</td>\n",
       "      <td>-0.024912</td>\n",
       "    </tr>\n",
       "    <tr>\n",
       "      <th>19</th>\n",
       "      <td>v</td>\n",
       "      <td>-0.163721</td>\n",
       "      <td>0.476657</td>\n",
       "      <td>-0.030335</td>\n",
       "    </tr>\n",
       "    <tr>\n",
       "      <th>18</th>\n",
       "      <td>v</td>\n",
       "      <td>-0.163721</td>\n",
       "      <td>0.476657</td>\n",
       "      <td>-0.030335</td>\n",
       "    </tr>\n",
       "    <tr>\n",
       "      <th>17</th>\n",
       "      <td>v</td>\n",
       "      <td>-0.163721</td>\n",
       "      <td>0.476657</td>\n",
       "      <td>-0.030335</td>\n",
       "    </tr>\n",
       "    <tr>\n",
       "      <th>7</th>\n",
       "      <td>v</td>\n",
       "      <td>-0.105431</td>\n",
       "      <td>-0.412672</td>\n",
       "      <td>-0.015059</td>\n",
       "    </tr>\n",
       "    <tr>\n",
       "      <th>8</th>\n",
       "      <td>v</td>\n",
       "      <td>-0.103304</td>\n",
       "      <td>-0.748699</td>\n",
       "      <td>-0.045038</td>\n",
       "    </tr>\n",
       "    <tr>\n",
       "      <th>22</th>\n",
       "      <td>v</td>\n",
       "      <td>-0.093564</td>\n",
       "      <td>-0.046249</td>\n",
       "      <td>-0.012199</td>\n",
       "    </tr>\n",
       "    <tr>\n",
       "      <th>5</th>\n",
       "      <td>v</td>\n",
       "      <td>-0.093564</td>\n",
       "      <td>-0.046249</td>\n",
       "      <td>-0.012199</td>\n",
       "    </tr>\n",
       "    <tr>\n",
       "      <th>6</th>\n",
       "      <td>v</td>\n",
       "      <td>-0.093564</td>\n",
       "      <td>-0.046249</td>\n",
       "      <td>-0.012199</td>\n",
       "    </tr>\n",
       "    <tr>\n",
       "      <th>11</th>\n",
       "      <td>v</td>\n",
       "      <td>-0.007937</td>\n",
       "      <td>0.627914</td>\n",
       "      <td>-0.003787</td>\n",
       "    </tr>\n",
       "    <tr>\n",
       "      <th>24</th>\n",
       "      <td>v</td>\n",
       "      <td>-0.002068</td>\n",
       "      <td>0.312048</td>\n",
       "      <td>0.021531</td>\n",
       "    </tr>\n",
       "    <tr>\n",
       "      <th>9</th>\n",
       "      <td>v</td>\n",
       "      <td>-0.002068</td>\n",
       "      <td>0.312048</td>\n",
       "      <td>0.021531</td>\n",
       "    </tr>\n",
       "    <tr>\n",
       "      <th>10</th>\n",
       "      <td>v</td>\n",
       "      <td>-0.002068</td>\n",
       "      <td>0.312048</td>\n",
       "      <td>0.021531</td>\n",
       "    </tr>\n",
       "    <tr>\n",
       "      <th>0</th>\n",
       "      <td>v</td>\n",
       "      <td>0.000889</td>\n",
       "      <td>0.119490</td>\n",
       "      <td>0.010071</td>\n",
       "    </tr>\n",
       "    <tr>\n",
       "      <th>3</th>\n",
       "      <td>v</td>\n",
       "      <td>0.093672</td>\n",
       "      <td>-0.398935</td>\n",
       "      <td>-0.008132</td>\n",
       "    </tr>\n",
       "    <tr>\n",
       "      <th>4</th>\n",
       "      <td>v</td>\n",
       "      <td>0.094885</td>\n",
       "      <td>-0.758728</td>\n",
       "      <td>-0.036067</td>\n",
       "    </tr>\n",
       "    <tr>\n",
       "      <th>23</th>\n",
       "      <td>v</td>\n",
       "      <td>0.098418</td>\n",
       "      <td>-0.053715</td>\n",
       "      <td>-0.021635</td>\n",
       "    </tr>\n",
       "    <tr>\n",
       "      <th>2</th>\n",
       "      <td>v</td>\n",
       "      <td>0.098418</td>\n",
       "      <td>-0.053715</td>\n",
       "      <td>-0.021635</td>\n",
       "    </tr>\n",
       "    <tr>\n",
       "      <th>1</th>\n",
       "      <td>v</td>\n",
       "      <td>0.098418</td>\n",
       "      <td>-0.053715</td>\n",
       "      <td>-0.021635</td>\n",
       "    </tr>\n",
       "    <tr>\n",
       "      <th>13</th>\n",
       "      <td>v</td>\n",
       "      <td>0.167869</td>\n",
       "      <td>0.466577</td>\n",
       "      <td>-0.034460</td>\n",
       "    </tr>\n",
       "    <tr>\n",
       "      <th>14</th>\n",
       "      <td>v</td>\n",
       "      <td>0.167869</td>\n",
       "      <td>0.466577</td>\n",
       "      <td>-0.034460</td>\n",
       "    </tr>\n",
       "    <tr>\n",
       "      <th>12</th>\n",
       "      <td>v</td>\n",
       "      <td>0.167869</td>\n",
       "      <td>0.466577</td>\n",
       "      <td>-0.034460</td>\n",
       "    </tr>\n",
       "    <tr>\n",
       "      <th>15</th>\n",
       "      <td>v</td>\n",
       "      <td>0.279588</td>\n",
       "      <td>0.248421</td>\n",
       "      <td>-0.008911</td>\n",
       "    </tr>\n",
       "    <tr>\n",
       "      <th>16</th>\n",
       "      <td>v</td>\n",
       "      <td>0.391673</td>\n",
       "      <td>0.044122</td>\n",
       "      <td>0.046747</td>\n",
       "    </tr>\n",
       "  </tbody>\n",
       "</table>\n",
       "</div>"
      ],
      "text/plain": [
       "   type         x         y         z\n",
       "21    v -0.392414  0.045288  0.025403\n",
       "20    v -0.283883  0.219551 -0.024912\n",
       "19    v -0.163721  0.476657 -0.030335\n",
       "18    v -0.163721  0.476657 -0.030335\n",
       "17    v -0.163721  0.476657 -0.030335\n",
       "7     v -0.105431 -0.412672 -0.015059\n",
       "8     v -0.103304 -0.748699 -0.045038\n",
       "22    v -0.093564 -0.046249 -0.012199\n",
       "5     v -0.093564 -0.046249 -0.012199\n",
       "6     v -0.093564 -0.046249 -0.012199\n",
       "11    v -0.007937  0.627914 -0.003787\n",
       "24    v -0.002068  0.312048  0.021531\n",
       "9     v -0.002068  0.312048  0.021531\n",
       "10    v -0.002068  0.312048  0.021531\n",
       "0     v  0.000889  0.119490  0.010071\n",
       "3     v  0.093672 -0.398935 -0.008132\n",
       "4     v  0.094885 -0.758728 -0.036067\n",
       "23    v  0.098418 -0.053715 -0.021635\n",
       "2     v  0.098418 -0.053715 -0.021635\n",
       "1     v  0.098418 -0.053715 -0.021635\n",
       "13    v  0.167869  0.466577 -0.034460\n",
       "14    v  0.167869  0.466577 -0.034460\n",
       "12    v  0.167869  0.466577 -0.034460\n",
       "15    v  0.279588  0.248421 -0.008911\n",
       "16    v  0.391673  0.044122  0.046747"
      ]
     },
     "execution_count": 22,
     "metadata": {},
     "output_type": "execute_result"
    }
   ],
   "source": [
    "df"
   ]
  },
  {
   "cell_type": "code",
   "execution_count": 24,
   "metadata": {},
   "outputs": [
    {
     "data": {
      "text/plain": [
       "<matplotlib.collections.PathCollection at 0x1a10ee45c88>"
      ]
     },
     "execution_count": 24,
     "metadata": {},
     "output_type": "execute_result"
    },
    {
     "data": {
      "image/png": "[encoded data removed]",
      "text/plain": [
       "<Figure size 432x288 with 1 Axes>"
      ]
     },
     "metadata": {
      "needs_background": "light"
     },
     "output_type": "display_data"
    }
   ],
   "source": [
    "plt.scatter(df.x, df.y)\n",
    "\n",
    "plt.scatter(df.x[21], df.y[21])\n",
    "plt.scatter(df.x[10], df.y[10])"
   ]
  },
  {
   "cell_type": "code",
   "execution_count": 25,
   "metadata": {},
   "outputs": [],
   "source": [
    " dist = math.sqrt(math.pow((df.x[21] - df.x[10]),2) + math.pow((df.y[21] - df.y[10]),2) + math.pow((df.z[21] - df.z[10]),2))"
   ]
  },
  {
   "cell_type": "code",
   "execution_count": 26,
   "metadata": {},
   "outputs": [
    {
     "name": "stdout",
     "output_type": "stream",
     "text": [
      "расстояние от правой кисти до позвоночника 0.4728063976936014\n"
     ]
    }
   ],
   "source": [
    "print( 'расстояние от правой кисти до позвоночника', dist)"
   ]
  },
  {
   "cell_type": "markdown",
   "metadata": {},
   "source": [
    "# Задание 3"
   ]
  },
  {
   "cell_type": "markdown",
   "metadata": {},
   "source": [
    "Найдите собственные значения и собственные вектора матриц (необходимо решение на numpy). Для матрицы 3x3 можно посмотреть на корни характеристического многочлена, посчитанные в numpy."
   ]
  },
  {
   "cell_type": "code",
   "execution_count": 27,
   "metadata": {},
   "outputs": [],
   "source": [
    "m1 = np.array([[2, 2],\n",
    "               [1, 3]])\n",
    "\n",
    "m2 = np.array([[4, 1, -1],\n",
    "               [1, 4, -1],\n",
    "               [-1, -1, 4]])"
   ]
  },
  {
   "cell_type": "code",
   "execution_count": 31,
   "metadata": {},
   "outputs": [
    {
     "name": "stdout",
     "output_type": "stream",
     "text": [
      "Собственное значение  [1. 4.]\n",
      "соответствующий ему собственный вектор  [[-0.89442719 -0.70710678]\n",
      " [ 0.4472136  -0.70710678]]\n"
     ]
    }
   ],
   "source": [
    "w, v = np.linalg.eig(m1)\n",
    "print(\"Собственное значение \",w)\n",
    "print(\"соответствующий ему собственный вектор \", v)"
   ]
  },
  {
   "cell_type": "code",
   "execution_count": 32,
   "metadata": {},
   "outputs": [
    {
     "name": "stdout",
     "output_type": "stream",
     "text": [
      "Собственное значение  [3. 6. 3.]\n",
      "соответствующий ему собственный вектор  [[-0.81649658  0.57735027 -0.27658128]\n",
      " [ 0.40824829  0.57735027  0.8035929 ]\n",
      " [-0.40824829 -0.57735027  0.52701162]]\n"
     ]
    }
   ],
   "source": [
    "w, v = np.linalg.eig(m2)\n",
    "print(\"Собственное значение \",w)\n",
    "print(\"соответствующий ему собственный вектор \", v)"
   ]
  },
  {
   "cell_type": "code",
   "execution_count": null,
   "metadata": {},
   "outputs": [],
   "source": []
  }
 ],
 "metadata": {
  "kernelspec": {
   "display_name": "Python 3",
   "language": "python",
   "name": "python3"
  },
  "language_info": {
   "codemirror_mode": {
    "name": "ipython",
    "version": 3
   },
   "file_extension": ".py",
   "mimetype": "text/x-python",
   "name": "python",
   "nbconvert_exporter": "python",
   "pygments_lexer": "ipython3",
   "version": "3.7.6"
  }
 },
 "nbformat": 4,
 "nbformat_minor": 2
}
