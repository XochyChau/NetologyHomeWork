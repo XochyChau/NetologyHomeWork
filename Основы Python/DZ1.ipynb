{
 "cells": [
  {
   "cell_type": "code",
   "execution_count": 12,
   "metadata": {},
   "outputs": [
    {
     "name": "stdout",
     "output_type": "stream",
     "text": [
      "62\n",
      "61\n",
      "True\n"
     ]
    }
   ],
   "source": [
    "long_phrase = 'Насколько проще было бы писать программы, если бы не заказчики'\n",
    "short_phrase = '640Кб должно хватить для любых задач. Билл Гейтс (по легенде)'\n",
    "print(len(long_phrase))\n",
    "print(len(short_phrase))\n",
    "print(len(long_phrase) > len(short_phrase))"
   ]
  },
  {
   "cell_type": "code",
   "execution_count": 20,
   "metadata": {},
   "outputs": [
    {
     "name": "stdout",
     "output_type": "stream",
     "text": [
      "Обьем равен: 213.0 Mb\n"
     ]
    }
   ],
   "source": [
    "byte_file = 223346688\n",
    "MB_file = byte_file / 2**20\n",
    "print('Обьем равен:', MB_file, 'Mb')"
   ]
  },
  {
   "cell_type": "code",
   "execution_count": 25,
   "metadata": {},
   "outputs": [
    {
     "name": "stdout",
     "output_type": "stream",
     "text": [
      "Введите месяц6\n",
      "Введите день15\n",
      "Близнецы\n"
     ]
    }
   ],
   "source": [
    "month = int(input('Введите месяц'))\n",
    "date = int(input('Введите день'))\n",
    "if month == 12 and 22<= date <=31 or month ==1 and date <= 19:\n",
    "    print('Козерог')\n",
    "elif month == 1 and 20<= date <=31 or month ==2 and date <= 19:\n",
    "    print('Водолей')\n",
    "elif month == 2 and 20<= date <=29 or month ==3 and date <= 20:\n",
    "    print('Рыбы')\n",
    "elif month == 3 and 21<= date <=31 or month ==4 and date <= 19:\n",
    "    print('Овен')\n",
    "elif month == 4 and 20<= date <=31 or month ==5 and date <= 20:\n",
    "    print('Телец')\n",
    "elif month == 5 and 21<= date <=30 or month ==6 and date <= 20:\n",
    "    print('Близнецы')\n",
    "elif month == 6 and 21 <= date <= 31 or month == 7 and date <= 22:\n",
    "    print('Рак')\n",
    "elif month == 7 and 23 <= date <= 30 or month == 8 and date <= 22:\n",
    "    print('Лев')\n",
    "elif month == 8 and 23 <= date <= 31 or month == 9 and date <= 22:\n",
    "    print('Дева')\n",
    "elif month == 9 and 23 <= date <= 30 or month == 10 and date <= 22:\n",
    "    print('Весы')\n",
    "elif month == 10 and 23 <= date <= 31 or month == 11 and date <= 21:\n",
    "    print('Скорпион')\n",
    "elif month == 11 and 22 <= date <= 30 or month == 12 and date <= 21:\n",
    "    print('Стрелец')"
   ]
  },
  {
   "cell_type": "code",
   "execution_count": 36,
   "metadata": {},
   "outputs": [
    {
     "name": "stdout",
     "output_type": "stream",
     "text": [
      "зарплата в месяц100\n",
      "процент от ЗП на ипотеку20\n",
      "сколько процентов от ЗП уходит \"на жизнь20\n",
      "сколько раз приходит премия в год4\n",
      "На ипотеку было потрачено 240.0 рублей\n",
      "Было накоплено 968.0 рублей\n"
     ]
    }
   ],
   "source": [
    "month_payment = int(input('зарплата в месяц'))\n",
    "mortage = int(input('процент от ЗП на ипотеку'))\n",
    "Life_costs_pcnt = int(input('сколько процентов от ЗП уходит \"на жизнь'))\n",
    "bonus = int(input('сколько раз приходит премия в год'))\n",
    "pension = 0\n",
    "vacation = 0\n",
    "year_salary = month_payment * 12\n",
    "mortage_cost = (mortage / 100) * year_salary\n",
    "life_cost = (year_salary - mortage_cost) * (Life_costs_pcnt / 100)\n",
    "bonus_savings = (bonus * month_payment) / 2  \n",
    "pension = year_salary - mortage_cost - life_cost + bonus_savings\n",
    "print('На ипотеку было потрачено', mortage_cost, 'рублей')\n",
    "print('Было накоплено', pension, 'рублей')"
   ]
  },
  {
   "cell_type": "code",
   "execution_count": null,
   "metadata": {},
   "outputs": [],
   "source": []
  },
  {
   "cell_type": "code",
   "execution_count": null,
   "metadata": {},
   "outputs": [],
   "source": [
    "\n"
   ]
  }
 ],
 "metadata": {
  "kernelspec": {
   "display_name": "Python 3",
   "language": "python",
   "name": "python3"
  },
  "language_info": {
   "codemirror_mode": {
    "name": "ipython",
    "version": 3
   },
   "file_extension": ".py",
   "mimetype": "text/x-python",
   "name": "python",
   "nbconvert_exporter": "python",
   "pygments_lexer": "ipython3",
   "version": "3.7.6"
  }
 },
 "nbformat": 4,
 "nbformat_minor": 4
}
