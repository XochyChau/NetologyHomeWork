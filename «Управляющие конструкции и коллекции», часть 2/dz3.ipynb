{
 "cells": [
  {
   "cell_type": "code",
   "execution_count": 132,
   "metadata": {},
   "outputs": [
    {
     "name": "stdout",
     "output_type": "stream",
     "text": [
      "visit1 ['Москва', 'Россия']\n",
      "visit3 ['Владимир', 'Россия']\n",
      "visit7 ['Тула', 'Россия']\n",
      "visit8 ['Тула', 'Россия']\n",
      "visit9 ['Курск', 'Россия']\n",
      "visit10 ['Архангельск', 'Россия']\n"
     ]
    }
   ],
   "source": [
    "geo_logs = [\n",
    "    {'visit1': ['Москва', 'Россия']},\n",
    "    {'visit2': ['Дели', 'Индия']},\n",
    "    {'visit3': ['Владимир', 'Россия']},\n",
    "    {'visit4': ['Лиссабон', 'Португалия']},\n",
    "    {'visit5': ['Париж', 'Франция']},\n",
    "    {'visit6': ['Лиссабон', 'Португалия']},\n",
    "    {'visit7': ['Тула', 'Россия']},\n",
    "    {'visit8': ['Тула', 'Россия']},\n",
    "    {'visit9': ['Курск', 'Россия']},\n",
    "    {'visit10': ['Архангельск', 'Россия']}\n",
    "]\n",
    "\n",
    "rus = 'Россия'\n",
    "for rows in geo_logs:\n",
    "#     print(rows)\n",
    "    for keys, values in rows.items():\n",
    "        if values[1] == 'Россия':\n",
    "            print(keys, values)\n",
    "        "
   ]
  },
  {
   "cell_type": "code",
   "execution_count": 115,
   "metadata": {},
   "outputs": [
    {
     "name": "stdout",
     "output_type": "stream",
     "text": [
      "{213, 15} {54, 119} {98, 35}\n"
     ]
    }
   ],
   "source": [
    "ids = {'user1': [213, 213, 213, 15, 213], \n",
    "       'user2': [54, 54, 119, 119, 119], \n",
    "       'user3': [213, 98, 98, 35]}\n",
    "numbers = []\n",
    "for values in ids.values():\n",
    "#     print(values)\n",
    "    sets = set(values)\n",
    "#     print(sets)\n",
    "    numbers.append(sets)\n",
    "print(numbers[0], numbers[1], numbers[2] - numbers[0])\n"
   ]
  },
  {
   "cell_type": "code",
   "execution_count": 154,
   "metadata": {},
   "outputs": [
    {
     "name": "stdout",
     "output_type": "stream",
     "text": [
      "% из двух слов 50.0 %    | % из трех слов 66.66666666666666 %\n"
     ]
    }
   ],
   "source": [
    "queries = [\n",
    "    'смотреть сериалы онлайн',\n",
    "    'новости спорта',\n",
    "    'афиша кино',\n",
    "    'курс доллара',\n",
    "    'сериалы этим летом',\n",
    "    'курс по питону',\n",
    "    'сериалы про спорт',\n",
    "]\n",
    "dva = 0\n",
    "tri = 0\n",
    "for i, elements in enumerate(queries):\n",
    "    elements = elements.split()\n",
    "    word_count = len(elements)\n",
    "    if word_count == 2:\n",
    "        dva = dva + 1\n",
    "    else:\n",
    "        tri = tri + 1\n",
    "print('% из двух слов', dva / i * 100, '%    |', '% из трех слов', tri / i * 100, '%')"
   ]
  },
  {
   "cell_type": "code",
   "execution_count": 221,
   "metadata": {},
   "outputs": [
    {
     "name": "stdout",
     "output_type": "stream",
     "text": [
      "120 yandex\n"
     ]
    }
   ],
   "source": [
    "stats = {'facebook': 55, 'yandex': 120, 'vk': 115, 'google': 99, 'email': 42, 'ok': 98}\n",
    "data = [(key, value) for key, value in stats.items()]\n",
    "print(max(data)[1],max(data)[0])"
   ]
  },
  {
   "cell_type": "code",
   "execution_count": 117,
   "metadata": {
    "scrolled": false
   },
   "outputs": [
    {
     "name": "stdout",
     "output_type": "stream",
     "text": [
      "{'2018-01-01': {'yandex': {'cpc': 100}}}\n"
     ]
    }
   ],
   "source": [
    "task = ['2018-01-01', 'yandex', 'cpc', 100]\n",
    "d = {}\n",
    "d[task[0]] = {task[1]:{task[2]:task[3]}}\n",
    "print(d)"
   ]
  },
  {
   "cell_type": "code",
   "execution_count": 126,
   "metadata": {},
   "outputs": [
    {
     "data": {
      "text/plain": [
       "{'2018-01-01': {'yandex': {'cpc': 100}}}"
      ]
     },
     "execution_count": 126,
     "metadata": {},
     "output_type": "execute_result"
    }
   ],
   "source": [
    "task = ['2018-01-01', 'yandex', 'cpc', 100]\n",
    "{task[i]:{task[i+1]:{task[i+2]:task[i+3]}} for i in range(0,len(task)-2,2)}\n"
   ]
  }
 ],
 "metadata": {
  "kernelspec": {
   "display_name": "Python 3",
   "language": "python",
   "name": "python3"
  },
  "language_info": {
   "codemirror_mode": {
    "name": "ipython",
    "version": 3
   },
   "file_extension": ".py",
   "mimetype": "text/x-python",
   "name": "python",
   "nbconvert_exporter": "python",
   "pygments_lexer": "ipython3",
   "version": "3.7.6"
  }
 },
 "nbformat": 4,
 "nbformat_minor": 4
}
