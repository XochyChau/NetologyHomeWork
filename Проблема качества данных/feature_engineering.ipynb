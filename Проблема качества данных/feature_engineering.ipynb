{
 "cells": [
  {
   "cell_type": "code",
   "execution_count": 1,
   "metadata": {},
   "outputs": [],
   "source": [
    "import numpy as np\n",
    "import pandas as pd\n",
    "\n",
    "from sklearn.linear_model import LinearRegression"
   ]
  },
  {
   "cell_type": "code",
   "execution_count": 36,
   "metadata": {},
   "outputs": [
    {
     "data": {
      "text/html": [
       "<div>\n",
       "<style scoped>\n",
       "    .dataframe tbody tr th:only-of-type {\n",
       "        vertical-align: middle;\n",
       "    }\n",
       "\n",
       "    .dataframe tbody tr th {\n",
       "        vertical-align: top;\n",
       "    }\n",
       "\n",
       "    .dataframe thead th {\n",
       "        text-align: right;\n",
       "    }\n",
       "</style>\n",
       "<table border=\"1\" class=\"dataframe\">\n",
       "  <thead>\n",
       "    <tr style=\"text-align: right;\">\n",
       "      <th></th>\n",
       "      <th>client_age</th>\n",
       "      <th>client_capital</th>\n",
       "      <th>client_loan</th>\n",
       "      <th>interest</th>\n",
       "    </tr>\n",
       "  </thead>\n",
       "  <tbody>\n",
       "    <tr>\n",
       "      <th>0</th>\n",
       "      <td>55</td>\n",
       "      <td>104</td>\n",
       "      <td>85</td>\n",
       "      <td>14.326471</td>\n",
       "    </tr>\n",
       "    <tr>\n",
       "      <th>1</th>\n",
       "      <td>88</td>\n",
       "      <td>121</td>\n",
       "      <td>65</td>\n",
       "      <td>14.018462</td>\n",
       "    </tr>\n",
       "    <tr>\n",
       "      <th>2</th>\n",
       "      <td>78</td>\n",
       "      <td>127</td>\n",
       "      <td>56</td>\n",
       "      <td>13.512143</td>\n",
       "    </tr>\n",
       "    <tr>\n",
       "      <th>3</th>\n",
       "      <td>48</td>\n",
       "      <td>18</td>\n",
       "      <td>39</td>\n",
       "      <td>15.018462</td>\n",
       "    </tr>\n",
       "    <tr>\n",
       "      <th>4</th>\n",
       "      <td>89</td>\n",
       "      <td>123</td>\n",
       "      <td>62</td>\n",
       "      <td>13.906129</td>\n",
       "    </tr>\n",
       "  </tbody>\n",
       "</table>\n",
       "</div>"
      ],
      "text/plain": [
       "   client_age  client_capital  client_loan   interest\n",
       "0          55             104           85  14.326471\n",
       "1          88             121           65  14.018462\n",
       "2          78             127           56  13.512143\n",
       "3          48              18           39  15.018462\n",
       "4          89             123           62  13.906129"
      ]
     },
     "execution_count": 36,
     "metadata": {},
     "output_type": "execute_result"
    }
   ],
   "source": [
    "# Создаём сэмпл модели, клоторая будет присваивать процент по кредиту, в зависимости от обьема обеспеченности кредита и возраста клиента\n",
    "n_samples = 500\n",
    "\n",
    "client_age = np.random.choice(90, n_samples) + 18\n",
    "client_capital = np.random.choice(120, n_samples) + 15\n",
    "client_loan = np.random.choice(80, n_samples) + 10\n",
    "\n",
    "# Опишем процент по кредиту вот такой формулой\n",
    "\n",
    "interest = 15 - (client_capital / client_loan) + (client_age / 100)\n",
    "\n",
    "data = pd.DataFrame({'client_age': client_age, 'client_capital': client_capital, 'client_loan': client_loan, 'interest': interest})\n",
    "data.head(5)"
   ]
  },
  {
   "cell_type": "code",
   "execution_count": 37,
   "metadata": {},
   "outputs": [
    {
     "name": "stdout",
     "output_type": "stream",
     "text": [
      "Weights: [ 0.008649   -0.02869273  0.05520569]\n",
      "Bias: 12.431085718586186\n",
      "Error: 0.6922496755570807\n"
     ]
    }
   ],
   "source": [
    "# оценим веса параметров модели\n",
    "\n",
    "from sklearn.metrics import mean_absolute_error\n",
    "\n",
    "X = data[['client_age', 'client_capital', 'client_loan']]\n",
    "y = data['interest']\n",
    "reg = LinearRegression().fit(X, y)\n",
    "print('Weights: {}'.format(reg.coef_))\n",
    "print('Bias: {}'.format(reg.intercept_))\n",
    "\n",
    "pred_values = reg.predict(data[['client_age', 'client_capital', 'client_loan']])\n",
    "print('Error: {}'.format(mean_absolute_error(pred_values, y)))"
   ]
  },
  {
   "cell_type": "code",
   "execution_count": null,
   "metadata": {},
   "outputs": [],
   "source": [
    "# хотя модель получилась довольно точной, создадим новый признак, чтобы улучшить модель"
   ]
  },
  {
   "cell_type": "code",
   "execution_count": 38,
   "metadata": {},
   "outputs": [
    {
     "data": {
      "text/html": [
       "<div>\n",
       "<style scoped>\n",
       "    .dataframe tbody tr th:only-of-type {\n",
       "        vertical-align: middle;\n",
       "    }\n",
       "\n",
       "    .dataframe tbody tr th {\n",
       "        vertical-align: top;\n",
       "    }\n",
       "\n",
       "    .dataframe thead th {\n",
       "        text-align: right;\n",
       "    }\n",
       "</style>\n",
       "<table border=\"1\" class=\"dataframe\">\n",
       "  <thead>\n",
       "    <tr style=\"text-align: right;\">\n",
       "      <th></th>\n",
       "      <th>client_age</th>\n",
       "      <th>client_capital</th>\n",
       "      <th>client_loan</th>\n",
       "      <th>interest</th>\n",
       "      <th>Loan_security</th>\n",
       "    </tr>\n",
       "  </thead>\n",
       "  <tbody>\n",
       "    <tr>\n",
       "      <th>0</th>\n",
       "      <td>55</td>\n",
       "      <td>104</td>\n",
       "      <td>85</td>\n",
       "      <td>14.326471</td>\n",
       "      <td>1.223529</td>\n",
       "    </tr>\n",
       "    <tr>\n",
       "      <th>1</th>\n",
       "      <td>88</td>\n",
       "      <td>121</td>\n",
       "      <td>65</td>\n",
       "      <td>14.018462</td>\n",
       "      <td>1.861538</td>\n",
       "    </tr>\n",
       "    <tr>\n",
       "      <th>2</th>\n",
       "      <td>78</td>\n",
       "      <td>127</td>\n",
       "      <td>56</td>\n",
       "      <td>13.512143</td>\n",
       "      <td>2.267857</td>\n",
       "    </tr>\n",
       "    <tr>\n",
       "      <th>3</th>\n",
       "      <td>48</td>\n",
       "      <td>18</td>\n",
       "      <td>39</td>\n",
       "      <td>15.018462</td>\n",
       "      <td>0.461538</td>\n",
       "    </tr>\n",
       "    <tr>\n",
       "      <th>4</th>\n",
       "      <td>89</td>\n",
       "      <td>123</td>\n",
       "      <td>62</td>\n",
       "      <td>13.906129</td>\n",
       "      <td>1.983871</td>\n",
       "    </tr>\n",
       "  </tbody>\n",
       "</table>\n",
       "</div>"
      ],
      "text/plain": [
       "   client_age  client_capital  client_loan   interest  Loan_security\n",
       "0          55             104           85  14.326471       1.223529\n",
       "1          88             121           65  14.018462       1.861538\n",
       "2          78             127           56  13.512143       2.267857\n",
       "3          48              18           39  15.018462       0.461538\n",
       "4          89             123           62  13.906129       1.983871"
      ]
     },
     "execution_count": 38,
     "metadata": {},
     "output_type": "execute_result"
    }
   ],
   "source": [
    "data['Loan_security'] = data['client_capital'] / data['client_loan']\n",
    "data.head(5)"
   ]
  },
  {
   "cell_type": "code",
   "execution_count": 39,
   "metadata": {},
   "outputs": [
    {
     "name": "stdout",
     "output_type": "stream",
     "text": [
      "Weights: [ 0.01 -1.  ]\n",
      "Bias: 14.999999999999998\n",
      "Error: 1.4885870314174098e-15\n"
     ]
    }
   ],
   "source": [
    "X = data[['client_age', 'Loan_security']]\n",
    "y = data['interest']\n",
    "reg = LinearRegression().fit(X, y)\n",
    "print('Weights: {}'.format(reg.coef_))\n",
    "print('Bias: {}'.format(reg.intercept_))\n",
    "\n",
    "pred_values = reg.predict(data[['client_age', 'Loan_security']])\n",
    "print('Error: {}'.format(mean_absolute_error(pred_values, y)))"
   ]
  },
  {
   "cell_type": "code",
   "execution_count": 40,
   "metadata": {},
   "outputs": [],
   "source": [
    "# модель показывает, что с увеличением обеспеченности кредита на 1, имеется увеличения ставки по кредиту \n",
    "# и что возраст клиента слабо влияет на данную модель"
   ]
  },
  {
   "cell_type": "code",
   "execution_count": null,
   "metadata": {},
   "outputs": [],
   "source": []
  }
 ],
 "metadata": {
  "kernelspec": {
   "display_name": "Python 3",
   "language": "python",
   "name": "python3"
  },
  "language_info": {
   "codemirror_mode": {
    "name": "ipython",
    "version": 3
   },
   "file_extension": ".py",
   "mimetype": "text/x-python",
   "name": "python",
   "nbconvert_exporter": "python",
   "pygments_lexer": "ipython3",
   "version": "3.7.6"
  }
 },
 "nbformat": 4,
 "nbformat_minor": 4
}
