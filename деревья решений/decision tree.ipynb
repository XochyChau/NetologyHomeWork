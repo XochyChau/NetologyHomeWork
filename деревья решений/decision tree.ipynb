{
 "cells": [
  {
   "cell_type": "code",
   "execution_count": 1,
   "metadata": {},
   "outputs": [],
   "source": [
    "import numpy as np\n",
    "from collections import Counter"
   ]
  },
  {
   "cell_type": "code",
   "execution_count": 335,
   "metadata": {},
   "outputs": [],
   "source": [
    "l = [1]*5 + [2]*3 + [1]*3+[5]*4"
   ]
  },
  {
   "cell_type": "code",
   "execution_count": 336,
   "metadata": {},
   "outputs": [],
   "source": [
    "def HGini(l):\n",
    "    length = len(l)\n",
    "    cnt = Counter(l)\n",
    "    \n",
    "    gini = 0\n",
    "    for cl in cnt.values():\n",
    "        p_1 = cl / length\n",
    "        p_2 = (1 - p_1)\n",
    "        it = p_1 * p_2\n",
    "        gini += it\n",
    "    \n",
    "    return gini"
   ]
  },
  {
   "cell_type": "code",
   "execution_count": 337,
   "metadata": {},
   "outputs": [],
   "source": [
    "def tree(l):\n",
    "    MaxGini = []\n",
    "    MaxIg = {} \n",
    "    for i in range(1, len(l)):\n",
    "        left_l = l[:i]\n",
    "        right_l = l[i:]\n",
    "        IG = HGini(l) - (len(left_l) / len(l)) * HGini(left_l) - (len(right_l) / len(l)) * HGini(right_l)\n",
    "        MaxIg[IG] = i \n",
    "    maxIG = max(MaxIg.keys())\n",
    "    if maxIG != 0:\n",
    "        newI = MaxIg[maxIG]\n",
    "        left_l = l[:newI]\n",
    "        right_l = l[newI:]\n",
    "        return left_l, right_l, 'IG=', maxIG\n",
    "    else:\n",
    "        return left_l, right_l, 'максимальная глубина'"
   ]
  },
  {
   "cell_type": "code",
   "execution_count": 338,
   "metadata": {},
   "outputs": [],
   "source": [
    "def tree2():\n",
    "    left_l = tree(l)[0]\n",
    "    right_l = tree(l)[1]\n",
    "    return left_l, right_l"
   ]
  },
  {
   "cell_type": "code",
   "execution_count": 339,
   "metadata": {},
   "outputs": [
    {
     "name": "stdout",
     "output_type": "stream",
     "text": [
      "____________первое разделение___________\n",
      "([1, 1, 1, 1, 1, 2, 2, 2, 1, 1, 1], [5, 5, 5, 5], 'IG=', 0.3135353535353536)\n",
      "____________второе разделение__________\n",
      "([5, 5, 5], [5], 'максимальная глубина')\n",
      "([1, 1, 1, 1, 1], [2, 2, 2, 1, 1, 1], 'IG=', 0.1239669421487603)\n",
      "____________третье разделение___________\n",
      "достигнута максимальная глубина\n",
      "([5, 5], [5], 'максимальная глубина')\n",
      "([2, 2, 2], [1, 1, 1], 'IG=', 0.5)\n",
      "([1, 1, 1, 1], [1], 'максимальная глубина')\n"
     ]
    }
   ],
   "source": [
    "print('____________первое разделение___________')\n",
    "print(tree(l))\n",
    "print('____________второе разделение__________')\n",
    "print(tree(tree2()[1]))\n",
    "print(tree(tree2()[0]))\n",
    "print('____________третье разделение___________')\n",
    "try:\n",
    "    x = print(tree(tree(tree2()[1])[1]))\n",
    "except ValueError:\n",
    "    print('достигнута максимальная глубина')\n",
    "try:\n",
    "    x = print(tree(tree(tree2()[1])[0]))\n",
    "except ValueError:\n",
    "    print('достигнута максимальная глубина')\n",
    "try:\n",
    "    x = print(tree(tree(tree2()[0])[1]))\n",
    "except ValueError:\n",
    "    print('достигнута максимальная глубина')\n",
    "try:\n",
    "    x = print(tree(tree(tree2()[0])[0]))\n",
    "except ValueError:\n",
    "    print('достигнута максимальная глубина')"
   ]
  },
  {
   "cell_type": "code",
   "execution_count": null,
   "metadata": {},
   "outputs": [],
   "source": []
  }
 ],
 "metadata": {
  "kernelspec": {
   "display_name": "Python 3",
   "language": "python",
   "name": "python3"
  },
  "language_info": {
   "codemirror_mode": {
    "name": "ipython",
    "version": 3
   },
   "file_extension": ".py",
   "mimetype": "text/x-python",
   "name": "python",
   "nbconvert_exporter": "python",
   "pygments_lexer": "ipython3",
   "version": "3.7.6"
  }
 },
 "nbformat": 4,
 "nbformat_minor": 4
}
