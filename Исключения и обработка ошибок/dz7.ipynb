{
 "cells": [
  {
   "cell_type": "code",
   "execution_count": 26,
   "metadata": {},
   "outputs": [],
   "source": [
    "from datetime import datetime"
   ]
  },
  {
   "cell_type": "code",
   "execution_count": 27,
   "metadata": {},
   "outputs": [],
   "source": [
    "from datetime import timedelta"
   ]
  },
  {
   "cell_type": "code",
   "execution_count": 28,
   "metadata": {},
   "outputs": [],
   "source": [
    "def date_range():\n",
    "    start_date = input('Введите дату начала в формате YYYY-MM-DD')\n",
    "    end_date = input('Введите дату конца периода в формате YYYY-MM-DD')\n",
    "    dummy_list =[]\n",
    "    try:\n",
    "        start_date_datetime = datetime.strptime(start_date, '%Y-%m-%d')\n",
    "        end_date_datetime = datetime.strptime(end_date, '%Y-%m-%d')\n",
    "    except:\n",
    "        print('неверный формат дат')\n",
    "        print(dummy_list)\n",
    "    if start_date_datetime > end_date_datetime:\n",
    "        print('неверно указан период')\n",
    "        print(dummy_list)\n",
    "    else:\n",
    "        while start_date_datetime <= end_date_datetime:\n",
    "            print(start_date_datetime.strftime('%Y-%m-%d'))\n",
    "            start_date_datetime += timedelta(days=1)"
   ]
  },
  {
   "cell_type": "code",
   "execution_count": 18,
   "metadata": {},
   "outputs": [
    {
     "name": "stdout",
     "output_type": "stream",
     "text": [
      "Введите дату начала в формате YYYY-MM-DD2020-01-01\n",
      "Введите дату конца периода в формате YYYY-MM-DD2019-01-01\n",
      "неверно указан период\n",
      "[]\n"
     ]
    }
   ],
   "source": [
    "date_range()"
   ]
  },
  {
   "cell_type": "code",
   "execution_count": 29,
   "metadata": {},
   "outputs": [],
   "source": [
    "stream = ['2018-04-02', '2018-02-29', '2018-19-02']"
   ]
  },
  {
   "cell_type": "code",
   "execution_count": 30,
   "metadata": {},
   "outputs": [
    {
     "name": "stdout",
     "output_type": "stream",
     "text": [
      "корректная дата 2018-04-02 00:00:00\n",
      "некорректная дата 2018-02-29\n",
      "некорректная дата 2018-19-02\n"
     ]
    }
   ],
   "source": [
    "for element in stream:\n",
    "    try:\n",
    "        date_element = datetime.strptime(element, '%Y-%m-%d')\n",
    "        print('корректная дата', date_element)\n",
    "    except:\n",
    "        print('некорректная дата', element)"
   ]
  },
  {
   "cell_type": "code",
   "execution_count": null,
   "metadata": {},
   "outputs": [],
   "source": []
  }
 ],
 "metadata": {
  "kernelspec": {
   "display_name": "Python 3",
   "language": "python",
   "name": "python3"
  },
  "language_info": {
   "codemirror_mode": {
    "name": "ipython",
    "version": 3
   },
   "file_extension": ".py",
   "mimetype": "text/x-python",
   "name": "python",
   "nbconvert_exporter": "python",
   "pygments_lexer": "ipython3",
   "version": "3.7.6"
  }
 },
 "nbformat": 4,
 "nbformat_minor": 4
}
