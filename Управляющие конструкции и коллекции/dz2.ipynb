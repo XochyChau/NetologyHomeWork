{
 "cells": [
  {
   "cell_type": "code",
   "execution_count": null,
   "metadata": {},
   "outputs": [],
   "source": [
    "text = input()\n",
    "if len(text)%2 == 0:\n",
    "    print(text[int(len(text)/2-1):int(len(text)/2+1)])\n",
    "else:\n",
    "    print(text[int(len(text)//2)])\n",
    "    "
   ]
  },
  {
   "cell_type": "code",
   "execution_count": 12,
   "metadata": {},
   "outputs": [
    {
     "name": "stdout",
     "output_type": "stream",
     "text": [
      "Alex Emma\n",
      "Arthur Kate\n",
      "John Kira\n",
      "Peter Liza\n",
      "Richard Trisha\n"
     ]
    }
   ],
   "source": [
    "boys = ['Peter', 'Alex', 'John', 'Arthur', 'Richard']\n",
    "girls = ['Kate', 'Liza', 'Kira', 'Emma', 'Trisha']\n",
    "sorted_boys = sorted(boys)\n",
    "sorted_girls = sorted(girls)\n",
    "by_name = zip(sorted_boys, sorted_girls)\n",
    "# print(list(by_name))\n",
    "if len(boys) != len(girls):\n",
    "    print('разное количество людей')\n",
    "else: \n",
    "    for f in list(by_name):\n",
    "        print(f'{f[0]} {f[1]}')"
   ]
  },
  {
   "cell_type": "code",
   "execution_count": 28,
   "metadata": {},
   "outputs": [
    {
     "name": "stdout",
     "output_type": "stream",
     "text": [
      "Thailand\n",
      "24.000000000000004\n",
      "25.0\n",
      "26.0\n",
      "23.000000000000004\n",
      "20.0\n",
      "24.000000000000004\n",
      "25.0\n",
      "Germany\n",
      "14.000000000000002\n",
      "13.0\n",
      "15.0\n",
      "15.0\n",
      "12.000000000000002\n",
      "13.0\n",
      "14.000000000000002\n",
      "Russia\n",
      "2.000000000000001\n",
      "2.9999999999999996\n",
      "4.000000000000002\n",
      "5.0\n",
      "5.999999999999999\n",
      "4.000000000000002\n",
      "2.000000000000001\n",
      "Poland\n",
      "10.0\n",
      "10.0\n",
      "12.000000000000002\n",
      "14.000000000000002\n",
      "13.0\n",
      "13.0\n",
      "10.999999999999998\n"
     ]
    }
   ],
   "source": [
    "\n",
    "countries_temperature = [\n",
    " ['Thailand', [75.2, 77, 78.8, 73.4, 68, 75.2, 77]],\n",
    " ['Germany', [57.2, 55.4, 59, 59, 53.6, 55.4, 57.2]],\n",
    " ['Russia', [35.6, 37.4, 39.2, 41, 42.8, 39.2, 35.6]],\n",
    " ['Poland', [50, 50, 53.6, 57.2, 55.4, 55.4, 51.8]],\n",
    "]\n",
    "for country in countries_temperature:\n",
    "    print(f'{country[0]}')\n",
    "    for temperature in country[1]:\n",
    "        print((temperature-32)*(5/9))\n",
    "\n",
    "    \n",
    "   "
   ]
  },
  {
   "cell_type": "code",
   "execution_count": 133,
   "metadata": {
    "scrolled": true
   },
   "outputs": [
    {
     "name": "stdout",
     "output_type": "stream",
     "text": [
      "3.0\n",
      "7.0\n",
      "8.0\n",
      "21.0\n",
      "14.0\n",
      "10.666666666666666\n",
      "14.0\n",
      "15.25\n",
      "16.25\n",
      "18.25\n",
      "20.5\n",
      "23.25\n"
     ]
    }
   ],
   "source": [
    "stream = [\n",
    "    '2018-01-01,user1,3',\n",
    "    '2018-01-07,user1,4',\n",
    "    '2018-03-29,user1,1',\n",
    "    '2018-04-04,user1,13',\n",
    "    '2018-01-05,user2,7',\n",
    "    '2018-06-14,user3,4',\n",
    "    '2018-07-02,user3,10',\n",
    "    '2018-03-21,user4,19',\n",
    "    '2018-03-22,user4,4',\n",
    "    '2018-04-22,user4,8',\n",
    "    '2018-05-03,user4,9',\n",
    "    '2018-05-11,user4,11',\n",
    "]\n",
    "d = []\n",
    "usern = 0\n",
    "g = 1\n",
    "summ = 0\n",
    "for d in range(10):\n",
    "        d = str(d)\n",
    "for i, a in enumerate(stream):\n",
    "    stream[i] = a.split(',')\n",
    "    stream[i][2] = int(stream[i][2]) \n",
    "    summ = summ + stream[i][2]\n",
    "#     print(summ)\n",
    "    b = stream[i][1]\n",
    "    if 'user'+str(g) in b:\n",
    "        usern += 1\n",
    "        g += 1\n",
    "#     print(usern)\n",
    "    print(summ/usern)\n",
    "    \n",
    "    \n",
    "    \n",
    "   \n",
    "    \n"
   ]
  },
  {
   "cell_type": "code",
   "execution_count": 137,
   "metadata": {},
   "outputs": [
    {
     "name": "stdout",
     "output_type": "stream",
     "text": [
      "yandex\n",
      "2018-01-02\n",
      "249\n"
     ]
    }
   ],
   "source": [
    "stats = [\n",
    "    ['2018-01-01', 'google', 25],\n",
    "    ['2018-01-01', 'yandex', 65],\n",
    "    ['2018-01-01', 'market', 89],\n",
    "    ['2018-01-02', 'google', 574],\n",
    "    ['2018-01-02', 'yandex', 249],\n",
    "    ['2018-01-02', 'market', 994],\n",
    "    ['2018-01-03', 'google', 1843],\n",
    "    ['2018-01-03', 'yandex', 1327],\n",
    "    ['2018-01-03', 'market', 1764],\n",
    "]\n",
    "company_name = input()\n",
    "date = input()\n",
    "for i in stats:\n",
    "    if company_name in i[1]:\n",
    "        if date in i[0]:\n",
    "            print(i[2])\n",
    "    "
   ]
  },
  {
   "cell_type": "code",
   "execution_count": 152,
   "metadata": {},
   "outputs": [
    {
     "name": "stdout",
     "output_type": "stream",
     "text": [
      "13\n",
      "45\n",
      "68\n",
      "103\n"
     ]
    }
   ],
   "source": [
    "data = [\n",
    "    [13, 25, 23, 34],\n",
    "    [45, 32, 44, 47],\n",
    "    [12, 33, 23, 95],\n",
    "    [13, 53, 34, 35]\n",
    "]\n",
    "summ = 0\n",
    "lenm = len(data)\n",
    "for i in range(lenm):\n",
    "    summ += data[i][i] \n",
    "    print(summ)"
   ]
  },
  {
   "cell_type": "code",
   "execution_count": null,
   "metadata": {},
   "outputs": [],
   "source": []
  }
 ],
 "metadata": {
  "kernelspec": {
   "display_name": "Python 3",
   "language": "python",
   "name": "python3"
  },
  "language_info": {
   "codemirror_mode": {
    "name": "ipython",
    "version": 3
   },
   "file_extension": ".py",
   "mimetype": "text/x-python",
   "name": "python",
   "nbconvert_exporter": "python",
   "pygments_lexer": "ipython3",
   "version": "3.7.6"
  }
 },
 "nbformat": 4,
 "nbformat_minor": 4
}
