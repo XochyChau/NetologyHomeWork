{
 "cells": [
  {
   "cell_type": "code",
   "execution_count": 11,
   "metadata": {},
   "outputs": [],
   "source": [
    "documents = [\n",
    "    {'type': 'passport', 'number': '2207 876234', 'name': 'Василий Гупкин'},\n",
    "    {'type': 'invoice', 'number': '11-2', 'name': 'Геннадий Покемонов'},\n",
    "    {'type': 'insurance', 'number': '10006', 'name': 'Аристарх Павлов'}\n",
    "]"
   ]
  },
  {
   "cell_type": "code",
   "execution_count": 12,
   "metadata": {},
   "outputs": [],
   "source": [
    "directories = {\n",
    "    '1': ['2207 876234', '11-2'],\n",
    "    '2': ['10006'],\n",
    "    '3': []\n",
    "}"
   ]
  },
  {
   "cell_type": "code",
   "execution_count": 3,
   "metadata": {},
   "outputs": [],
   "source": [
    "def docnum():\n",
    "    doc_num = input('введите номер документа')\n",
    "    documents_existance = []\n",
    "    for lines in documents:\n",
    "        documents_existance.append(lines['number'])\n",
    "    if doc_num in documents_existance:\n",
    "        for line in documents:\n",
    "            if doc_num in line['number']:\n",
    "                print(line['name'])\n",
    "    else:\n",
    "        print('нет документа')\n",
    "        "
   ]
  },
  {
   "cell_type": "code",
   "execution_count": 4,
   "metadata": {},
   "outputs": [],
   "source": [
    "def shelf(documents_n, directories_n):\n",
    "    doc_num = input('введите номер документа')\n",
    "    for line in documents_n:\n",
    "        if doc_num in line['number']:\n",
    "            for key, items in directories_n.items():\n",
    "                if doc_num in items:\n",
    "                    print('номер полки', key)"
   ]
  },
  {
   "cell_type": "code",
   "execution_count": 5,
   "metadata": {},
   "outputs": [],
   "source": [
    "def list_func(data):\n",
    "    for line in data:\n",
    "        print(line['type'], line['number'], line['name'])\n",
    "    "
   ]
  },
  {
   "cell_type": "code",
   "execution_count": 6,
   "metadata": {},
   "outputs": [],
   "source": [
    "def addshelf(directories):\n",
    "    num = input('Введите номер полки для добавления')\n",
    "    if num not in directories:\n",
    "        directories[num] = []\n",
    "        print(directories)\n",
    "    else:\n",
    "        print('полка уже существует')\n",
    "        \n",
    "    "
   ]
  },
  {
   "cell_type": "code",
   "execution_count": 7,
   "metadata": {},
   "outputs": [],
   "source": [
    "def deldoc():\n",
    "    doc_num = input('Введите номер для удаления')\n",
    "    documents_existance = []\n",
    "    for lines in documents:\n",
    "        documents_existance.append(lines['number'])\n",
    "    if doc_num in documents_existance:\n",
    "        for i, line in enumerate(documents):\n",
    "            if doc_num in line['number']:\n",
    "                del(documents[i])\n",
    "        for key, items in directories.items():\n",
    "            if doc_num in items:\n",
    "                del(directories[key])\n",
    "                break\n",
    "        print('документ удален')\n",
    "    else:\n",
    "        print('нет документа')"
   ]
  },
  {
   "cell_type": "code",
   "execution_count": 8,
   "metadata": {},
   "outputs": [],
   "source": [
    "def move():\n",
    "    doc_num = input('введите номер документа')\n",
    "    documents_existance = []\n",
    "    shelf = input('введите номер полки')\n",
    "    for lines in documents:\n",
    "        documents_existance.append(lines['number'])\n",
    "    if doc_num in documents_existance:\n",
    "        if shelf in directories.keys():\n",
    "            for key, items in directories.items():\n",
    "                if doc_num in items:\n",
    "                    items.remove(doc_num)\n",
    "                if key == shelf:\n",
    "                    items.append(doc_num)\n",
    "            print(directories)\n",
    "        else:\n",
    "            print('нет полки')\n",
    "    else:\n",
    "        print('нет документа')\n",
    "                "
   ]
  },
  {
   "cell_type": "code",
   "execution_count": 9,
   "metadata": {},
   "outputs": [],
   "source": [
    "def add():\n",
    "    number = input('введите номер')\n",
    "    type_d = input('введите тип')\n",
    "    name = input('введите имя ')\n",
    "    shelf = input('введите номер полки')\n",
    "    if shelf in directories.keys():\n",
    "        documents.append({'type' : type_d, 'number' : number, 'name' : name })\n",
    "        for key, items in directories.items():\n",
    "            if key == shelf:\n",
    "                items.append(documents[len(documents)-1]['number'])\n",
    "    else:\n",
    "        print('нет полки')"
   ]
  },
  {
   "cell_type": "code",
   "execution_count": 15,
   "metadata": {},
   "outputs": [],
   "source": [
    "def home_work_total():\n",
    "    command_list = ['p-people', 's-shelf', 'l-list', 'as-add shelf', 'd-delete', 'm-move', 'a-add' ]\n",
    "    print(command_list)\n",
    "    command = input('введите команду')\n",
    "    if command == 'p-people':\n",
    "        docnum()\n",
    "    elif command == 's-shelf':\n",
    "        shelf(documents, directories)\n",
    "    elif command == 'l-list':\n",
    "        list_func(documents)\n",
    "    elif command == 'as-add':\n",
    "        addshelf(directories)\n",
    "    elif command == 'd-delete':\n",
    "        deldoc()\n",
    "    elif command == 'm-move':\n",
    "        move()\n",
    "    elif command == 'a-add':\n",
    "        add()"
   ]
  },
  {
   "cell_type": "code",
   "execution_count": null,
   "metadata": {},
   "outputs": [
    {
     "name": "stdout",
     "output_type": "stream",
     "text": [
      "['p-people', 's-shelf', 'l-list', 'as-add shelf', 'd-delete', 'm-move', 'a-add']\n"
     ]
    }
   ],
   "source": [
    "home_work_total()"
   ]
  },
  {
   "cell_type": "code",
   "execution_count": null,
   "metadata": {},
   "outputs": [],
   "source": []
  }
 ],
 "metadata": {
  "kernelspec": {
   "display_name": "Python 3",
   "language": "python",
   "name": "python3"
  },
  "language_info": {
   "codemirror_mode": {
    "name": "ipython",
    "version": 3
   },
   "file_extension": ".py",
   "mimetype": "text/x-python",
   "name": "python",
   "nbconvert_exporter": "python",
   "pygments_lexer": "ipython3",
   "version": "3.7.6"
  }
 },
 "nbformat": 4,
 "nbformat_minor": 4
}
